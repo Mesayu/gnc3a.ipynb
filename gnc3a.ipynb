{
 "cells": [
  {
   "cell_type": "code",
   "execution_count": 1,
   "metadata": {},
   "outputs": [
    {
     "name": "stdout",
     "output_type": "stream",
     "text": [
      "A001\n",
      "Harry Potter\n",
      "B001\n",
      "Lorong1\n"
     ]
    }
   ],
   "source": [
    "class library:\n",
    "    def __init__(self, add_book, search_book, remove_book):\n",
    "        self.add_book = add\n",
    "        self.search_book = search\n",
    "        self.remove_book = remove\n",
    "\n",
    "    \n",
    "\n",
    "    def __str__(self):\n",
    "        return f'search {self.catalog} dan remove {self.catalog} '\n",
    "\n",
    "if __name__ == \"__main__\":\n",
    "    add_book = input('masukan Catalog')\n",
    "    search_book = input('masukan Title')\n",
    "    remove_book = input('masukan Catalog')\n",
    "    display_book = input('masukan Catalog')\n",
    "\n",
    "\n",
    "print(add_book)\n",
    "print(search_book)\n",
    "print(remove_book)\n",
    "print(display_book)\n"
   ]
  }
 ],
 "metadata": {
  "kernelspec": {
   "display_name": "base",
   "language": "python",
   "name": "python3"
  },
  "language_info": {
   "codemirror_mode": {
    "name": "ipython",
    "version": 3
   },
   "file_extension": ".py",
   "mimetype": "text/x-python",
   "name": "python",
   "nbconvert_exporter": "python",
   "pygments_lexer": "ipython3",
   "version": "3.9.18"
  }
 },
 "nbformat": 4,
 "nbformat_minor": 2
}
